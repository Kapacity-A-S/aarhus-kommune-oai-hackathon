{
 "cells": [
  {
   "cell_type": "markdown",
   "metadata": {},
   "source": [
    "# Data extraction med OpenAI function calling\n",
    "Velkomment til denne tekniske workshop om data extraction med OpenAI function calling. I denne notebook vil vi få styr på følgende: \n",
    "\n",
    "1. Opsætning af Azure OpenAI (deployment, setup af API nøgler mv.)\n",
    "2. Intro til (Azure) OpenAI API og SDK\n",
    "3. Struktureret data extraction med function calls\n",
    "4. Bedre function calls med Pydantic\n",
    "5. Fri leg!\n",
    "\n",
    "I denne notebook vil vi fokusere på eventyret \"Kejserens nye klæder\" af H.C. Andersen, en klassisk fortælling, der har begejstret og undret læsere i generationer. Let's get cracking!"
   ]
  },
  {
   "cell_type": "markdown",
   "metadata": {},
   "source": [
    "## 1. Opsætning af Azure OpenAI\n",
    "Lad os hopppe ind i [oai.azure.com](https://oai.azure.com/) og tjekke det ud!"
   ]
  },
  {
   "cell_type": "markdown",
   "metadata": {},
   "source": [
    "## 2. Intro til (Azure) OpenAI API og SDK\n",
    "Vi bruger [OpenAI's API](https://platform.openai.com/docs/api-reference/chat) og [Python SDK](https://github.com/openai/openai-python). For at forbinde til ens egen model, er det vigtigt at sætte en række miljøvariabler. Et eksempel kan ses i [`.template-env`](../.template-env). \n",
    "\n",
    "Det er også vigtigt at have installeret `openai` pakken. Det kan gøres med `pip install openai`. I dette repo bruger vi `poetry`. Alle nødvendige pakker kan installeres med `poetry install`. Lad os se det i aktion!"
   ]
  },
  {
   "cell_type": "code",
   "execution_count": 61,
   "metadata": {},
   "outputs": [
    {
     "data": {
      "text/plain": [
       "SyncPage[Model](data=[Model(id='ada', created=None, object='model', owned_by=None, capabilities={'fine_tune': False, 'inference': False, 'completion': True, 'chat_completion': False, 'embeddings': False}, lifecycle_status='generally-available', deprecation={'fine_tune': 1720137600, 'inference': 1720137600}, status='succeeded', created_at=1646092800, updated_at=1688601600), Model(id='babbage', created=None, object='model', owned_by=None, capabilities={'fine_tune': False, 'inference': False, 'completion': True, 'chat_completion': False, 'embeddings': False}, lifecycle_status='generally-available', deprecation={'fine_tune': 1720137600, 'inference': 1720137600}, status='succeeded', created_at=1646092800, updated_at=1688601600), Model(id='babbage-002', created=None, object='model', owned_by=None, capabilities={'fine_tune': True, 'inference': True, 'completion': True, 'chat_completion': False, 'embeddings': False}, lifecycle_status='generally-available', deprecation={'fine_tune': 1735862400, 'inference': 1735862400}, status='succeeded', created_at=1693872000, updated_at=1693872000), Model(id='curie', created=None, object='model', owned_by=None, capabilities={'fine_tune': False, 'inference': False, 'completion': True, 'chat_completion': False, 'embeddings': False}, lifecycle_status='generally-available', deprecation={'fine_tune': 1720137600, 'inference': 1720137600}, status='succeeded', created_at=1646092800, updated_at=1688601600), Model(id='dall-e-3-3.0', created=None, object='model', owned_by=None, capabilities={'fine_tune': False, 'inference': True, 'completion': False, 'chat_completion': False, 'embeddings': False}, lifecycle_status='preview', deprecation={'inference': 1721001600}, status='succeeded', created_at=1691712000, updated_at=1691712000), Model(id='davinci', created=None, object='model', owned_by=None, capabilities={'fine_tune': False, 'inference': False, 'completion': True, 'chat_completion': False, 'embeddings': False}, lifecycle_status='generally-available', deprecation={'fine_tune': 1720137600, 'inference': 1720137600}, status='succeeded', created_at=1646092800, updated_at=1688601600), Model(id='davinci-002', created=None, object='model', owned_by=None, capabilities={'fine_tune': True, 'inference': True, 'completion': True, 'chat_completion': False, 'embeddings': False}, lifecycle_status='generally-available', deprecation={'fine_tune': 1735862400, 'inference': 1735862400}, status='succeeded', created_at=1693872000, updated_at=1693872000), Model(id='text-davinci-003', created=None, object='model', owned_by=None, capabilities={'fine_tune': False, 'inference': True, 'completion': True, 'chat_completion': False, 'embeddings': False}, lifecycle_status='generally-available', deprecation={'inference': 1720137600}, status='succeeded', created_at=1664496000, updated_at=1688601600), Model(id='text-similarity-ada-001', created=None, object='model', owned_by=None, capabilities={'fine_tune': False, 'inference': True, 'completion': False, 'chat_completion': False, 'embeddings': True}, lifecycle_status='generally-available', deprecation={'inference': 1720137600}, status='succeeded', created_at=1653004800, updated_at=1688601600), Model(id='text-similarity-babbage-001', created=None, object='model', owned_by=None, capabilities={'fine_tune': False, 'inference': True, 'completion': False, 'chat_completion': False, 'embeddings': True}, lifecycle_status='generally-available', deprecation={'inference': 1720137600}, status='succeeded', created_at=1653004800, updated_at=1688601600), Model(id='text-similarity-curie-001', created=None, object='model', owned_by=None, capabilities={'fine_tune': False, 'inference': True, 'completion': False, 'chat_completion': False, 'embeddings': True}, lifecycle_status='generally-available', deprecation={'inference': 1720137600}, status='succeeded', created_at=1653004800, updated_at=1688601600), Model(id='text-similarity-davinci-001', created=None, object='model', owned_by=None, capabilities={'fine_tune': False, 'inference': True, 'completion': False, 'chat_completion': False, 'embeddings': True}, lifecycle_status='generally-available', deprecation={'inference': 1720137600}, status='succeeded', created_at=1653004800, updated_at=1688601600), Model(id='text-search-ada-doc-001', created=None, object='model', owned_by=None, capabilities={'fine_tune': False, 'inference': True, 'completion': False, 'chat_completion': False, 'embeddings': True}, lifecycle_status='generally-available', deprecation={'inference': 1720137600}, status='succeeded', created_at=1653004800, updated_at=1688601600), Model(id='text-search-ada-query-001', created=None, object='model', owned_by=None, capabilities={'fine_tune': False, 'inference': True, 'completion': False, 'chat_completion': False, 'embeddings': True}, lifecycle_status='generally-available', deprecation={'inference': 1720137600}, status='succeeded', created_at=1653004800, updated_at=1688601600), Model(id='text-search-babbage-doc-001', created=None, object='model', owned_by=None, capabilities={'fine_tune': False, 'inference': True, 'completion': False, 'chat_completion': False, 'embeddings': True}, lifecycle_status='generally-available', deprecation={'inference': 1720137600}, status='succeeded', created_at=1653004800, updated_at=1688601600), Model(id='text-search-babbage-query-001', created=None, object='model', owned_by=None, capabilities={'fine_tune': False, 'inference': True, 'completion': False, 'chat_completion': False, 'embeddings': True}, lifecycle_status='generally-available', deprecation={'inference': 1720137600}, status='succeeded', created_at=1653004800, updated_at=1688601600), Model(id='text-search-curie-doc-001', created=None, object='model', owned_by=None, capabilities={'fine_tune': False, 'inference': True, 'completion': False, 'chat_completion': False, 'embeddings': True}, lifecycle_status='generally-available', deprecation={'inference': 1720137600}, status='succeeded', created_at=1653004800, updated_at=1688601600), Model(id='text-search-curie-query-001', created=None, object='model', owned_by=None, capabilities={'fine_tune': False, 'inference': True, 'completion': False, 'chat_completion': False, 'embeddings': True}, lifecycle_status='generally-available', deprecation={'inference': 1720137600}, status='succeeded', created_at=1653004800, updated_at=1688601600), Model(id='text-search-davinci-doc-001', created=None, object='model', owned_by=None, capabilities={'fine_tune': False, 'inference': True, 'completion': False, 'chat_completion': False, 'embeddings': True}, lifecycle_status='generally-available', deprecation={'inference': 1720137600}, status='succeeded', created_at=1653004800, updated_at=1688601600), Model(id='text-search-davinci-query-001', created=None, object='model', owned_by=None, capabilities={'fine_tune': False, 'inference': True, 'completion': False, 'chat_completion': False, 'embeddings': True}, lifecycle_status='generally-available', deprecation={'inference': 1720137600}, status='succeeded', created_at=1653004800, updated_at=1688601600), Model(id='code-search-ada-code-001', created=None, object='model', owned_by=None, capabilities={'fine_tune': False, 'inference': True, 'completion': False, 'chat_completion': False, 'embeddings': True}, lifecycle_status='generally-available', deprecation={'inference': 1720137600}, status='succeeded', created_at=1653004800, updated_at=1688601600), Model(id='code-search-ada-text-001', created=None, object='model', owned_by=None, capabilities={'fine_tune': False, 'inference': True, 'completion': False, 'chat_completion': False, 'embeddings': True}, lifecycle_status='generally-available', deprecation={'inference': 1720137600}, status='succeeded', created_at=1653004800, updated_at=1688601600), Model(id='code-search-babbage-code-001', created=None, object='model', owned_by=None, capabilities={'fine_tune': False, 'inference': True, 'completion': False, 'chat_completion': False, 'embeddings': True}, lifecycle_status='generally-available', deprecation={'inference': 1720137600}, status='succeeded', created_at=1653004800, updated_at=1688601600), Model(id='code-search-babbage-text-001', created=None, object='model', owned_by=None, capabilities={'fine_tune': False, 'inference': True, 'completion': False, 'chat_completion': False, 'embeddings': True}, lifecycle_status='generally-available', deprecation={'inference': 1720137600}, status='succeeded', created_at=1653004800, updated_at=1688601600), Model(id='text-embedding-ada-002', created=None, object='model', owned_by=None, capabilities={'fine_tune': False, 'inference': True, 'completion': False, 'chat_completion': False, 'embeddings': True}, lifecycle_status='generally-available', deprecation={'inference': 1738454400}, status='succeeded', created_at=1675296000, updated_at=1675296000), Model(id='text-embedding-ada-002-2', created=None, object='model', owned_by=None, capabilities={'fine_tune': False, 'inference': True, 'completion': False, 'chat_completion': False, 'embeddings': True}, lifecycle_status='generally-available', deprecation={'inference': 1743638400}, status='succeeded', created_at=1680480000, updated_at=1680480000), Model(id='gpt-35-turbo-0301', created=None, object='model', owned_by=None, capabilities={'fine_tune': False, 'inference': True, 'completion': True, 'chat_completion': True, 'embeddings': False}, lifecycle_status='generally-available', deprecation={'inference': 1720137600}, status='succeeded', created_at=1678320000, updated_at=1688601600), Model(id='gpt-35-turbo-0613', created=None, object='model', owned_by=None, capabilities={'fine_tune': True, 'inference': True, 'completion': False, 'chat_completion': True, 'embeddings': False}, lifecycle_status='generally-available', deprecation={'fine_tune': 1718236800, 'inference': 1718236800}, status='succeeded', created_at=1687132800, updated_at=1687132800), Model(id='gpt-35-turbo-1106', created=None, object='model', owned_by=None, capabilities={'fine_tune': False, 'inference': True, 'completion': False, 'chat_completion': True, 'embeddings': False}, lifecycle_status='generally-available', deprecation={'inference': 1730851200}, status='succeeded', created_at=1700006400, updated_at=1700006400), Model(id='gpt-35-turbo-instruct-0914', created=None, object='model', owned_by=None, capabilities={'fine_tune': False, 'inference': True, 'completion': True, 'chat_completion': False, 'embeddings': False}, lifecycle_status='generally-available', deprecation={'inference': 1727654400}, status='succeeded', created_at=1694649600, updated_at=1694649600), Model(id='gpt-35-turbo-16k-0613', created=None, object='model', owned_by=None, capabilities={'fine_tune': False, 'inference': True, 'completion': False, 'chat_completion': True, 'embeddings': False}, lifecycle_status='generally-available', deprecation={'inference': 1718236800}, status='succeeded', created_at=1687132800, updated_at=1687132800), Model(id='gpt-4-1106-Preview', created=None, object='model', owned_by=None, capabilities={'fine_tune': False, 'inference': True, 'completion': False, 'chat_completion': True, 'embeddings': False}, lifecycle_status='preview', deprecation={'inference': 1711843200}, status='succeeded', created_at=1700006400, updated_at=1700006400), Model(id='gpt-4-0314', created=None, object='model', owned_by=None, capabilities={'fine_tune': False, 'inference': True, 'completion': False, 'chat_completion': True, 'embeddings': False}, lifecycle_status='generally-available', deprecation={'inference': 1720137600}, status='succeeded', created_at=1679356800, updated_at=1688601600), Model(id='gpt-4-0613', created=None, object='model', owned_by=None, capabilities={'fine_tune': False, 'inference': True, 'completion': False, 'chat_completion': True, 'embeddings': False}, lifecycle_status='generally-available', deprecation={'fine_tune': 1720137600, 'inference': 1720137600}, status='succeeded', created_at=1687132800, updated_at=1687132800), Model(id='gpt-4-32k-0314', created=None, object='model', owned_by=None, capabilities={'fine_tune': False, 'inference': True, 'completion': False, 'chat_completion': True, 'embeddings': False}, lifecycle_status='generally-available', deprecation={'inference': 1720137600}, status='succeeded', created_at=1679356800, updated_at=1688601600), Model(id='gpt-4-32k-0613', created=None, object='model', owned_by=None, capabilities={'fine_tune': False, 'inference': True, 'completion': False, 'chat_completion': True, 'embeddings': False}, lifecycle_status='generally-available', deprecation={'inference': 1720137600}, status='succeeded', created_at=1687132800, updated_at=1687132800), Model(id='gpt-4-vision-preview', created=None, object='model', owned_by=None, capabilities={'fine_tune': False, 'inference': True, 'completion': False, 'chat_completion': True, 'embeddings': False}, lifecycle_status='preview', deprecation={'inference': 1711843200}, status='succeeded', created_at=1700092800, updated_at=1700092800), Model(id='dall-e-3', created=None, object='model', owned_by=None, capabilities={'fine_tune': False, 'inference': True, 'completion': False, 'chat_completion': False, 'embeddings': False}, lifecycle_status='preview', deprecation={'inference': 1721001600}, status='succeeded', created_at=1691712000, updated_at=1691712000), Model(id='text-embedding-ada-002', created=None, object='model', owned_by=None, capabilities={'fine_tune': False, 'inference': True, 'completion': False, 'chat_completion': False, 'embeddings': True}, lifecycle_status='generally-available', deprecation={'inference': 1743638400}, status='succeeded', created_at=1680480000, updated_at=1680480000), Model(id='gpt-35-turbo', created=None, object='model', owned_by=None, capabilities={'fine_tune': False, 'inference': True, 'completion': True, 'chat_completion': True, 'embeddings': False}, lifecycle_status='generally-available', deprecation={'inference': 1720137600}, status='succeeded', created_at=1678320000, updated_at=1688601600), Model(id='gpt-35-turbo-instruct', created=None, object='model', owned_by=None, capabilities={'fine_tune': False, 'inference': True, 'completion': True, 'chat_completion': False, 'embeddings': False}, lifecycle_status='generally-available', deprecation={'inference': 1727654400}, status='succeeded', created_at=1694649600, updated_at=1694649600), Model(id='gpt-35-turbo-16k', created=None, object='model', owned_by=None, capabilities={'fine_tune': False, 'inference': True, 'completion': False, 'chat_completion': True, 'embeddings': False}, lifecycle_status='generally-available', deprecation={'inference': 1718236800}, status='succeeded', created_at=1687132800, updated_at=1687132800), Model(id='gpt-4', created=None, object='model', owned_by=None, capabilities={'fine_tune': False, 'inference': True, 'completion': False, 'chat_completion': True, 'embeddings': False}, lifecycle_status='generally-available', deprecation={'fine_tune': 1720137600, 'inference': 1720137600}, status='succeeded', created_at=1687132800, updated_at=1687132800), Model(id='gpt-4-32k', created=None, object='model', owned_by=None, capabilities={'fine_tune': False, 'inference': True, 'completion': False, 'chat_completion': True, 'embeddings': False}, lifecycle_status='generally-available', deprecation={'inference': 1720137600}, status='succeeded', created_at=1687132800, updated_at=1687132800)], object='list')"
      ]
     },
     "execution_count": 61,
     "metadata": {},
     "output_type": "execute_result"
    }
   ],
   "source": [
    "from openai import AzureOpenAI # importer clienten \n",
    "import os\n",
    "from dotenv import load_dotenv\n",
    "\n",
    "load_dotenv() # importerer .env filen\n",
    "\n",
    "client = AzureOpenAI(\n",
    "        api_key=os.getenv(\"OPENAI_API_KEY\"),\n",
    "        api_version=os.getenv(\"OPENAI_API_VERSION\"),\n",
    "        azure_endpoint=os.getenv(\"OPENAI_API_BASE\"),\n",
    "    )"
   ]
  },
  {
   "cell_type": "markdown",
   "metadata": {},
   "source": [
    "Nu hvor vi har en client, kan vi prøve at generere et svar. Man skal bruge en model og en liste af \"beskeder\". En besked er et simpelt objekt med en `role` (enten `system`, `user`, eller `assistant`) og noget `content` (en string med prompten). Man skal give en liste af den fulde historik man vil medtage. Lad os prøve at snakke om kejserens nye klæder!"
   ]
  },
  {
   "cell_type": "code",
   "execution_count": 66,
   "metadata": {},
   "outputs": [],
   "source": [
    "system_message = {\"role\": \"system\", \"content\": \"You are an expert on H.C Andersen. You can answer all questions about all of his fairytales.\"}\n",
    "question = {\"role\": \"user\", \"content\": \"Opsummer eventyret om kejserens nye klæder i en præcis sætning. Nævn også de vigtigste karakterer i eventyret.\"}\n",
    "\n",
    "response = client.chat.completions.create(\n",
    "    model=\"gpt4\", # NB: Det skal være det navn du har givet modellen i Azure!\n",
    "    messages=[system_message, question],\n",
    ")"
   ]
  },
  {
   "cell_type": "markdown",
   "metadata": {},
   "source": [
    "Lad os tage et kig på svaret!"
   ]
  },
  {
   "cell_type": "code",
   "execution_count": 63,
   "metadata": {},
   "outputs": [
    {
     "name": "stdout",
     "output_type": "stream",
     "text": [
      "ChatCompletion(id='chatcmpl-8cYWvvhsM7h6gBXaegJxFnq7gGU3M', choices=[Choice(finish_reason='stop', index=0, logprobs=None, message=ChatCompletionMessage(content='\"Kejserens Nye Klæder\" er et eventyr om en forfængelig kejser, der bliver narret af to svindlere til at tro, at han har købt en usynlig kappe, hvilket bliver afsløret af et barn, der påpeger at kejseren er nøgen.', role='assistant', function_call=None, tool_calls=None), content_filter_results={'hate': {'filtered': False, 'severity': 'safe'}, 'self_harm': {'filtered': False, 'severity': 'safe'}, 'sexual': {'filtered': False, 'severity': 'low'}, 'violence': {'filtered': False, 'severity': 'safe'}})], created=1704199889, model='gpt-4', object='chat.completion', system_fingerprint=None, usage=CompletionUsage(completion_tokens=79, prompt_tokens=56, total_tokens=135), prompt_filter_results=[{'prompt_index': 0, 'content_filter_results': {'hate': {'filtered': False, 'severity': 'safe'}, 'self_harm': {'filtered': False, 'severity': 'safe'}, 'sexual': {'filtered': False, 'severity': 'safe'}, 'violence': {'filtered': False, 'severity': 'safe'}}}])\n"
     ]
    }
   ],
   "source": [
    "print(response)"
   ]
  },
  {
   "cell_type": "markdown",
   "metadata": {},
   "source": [
    "Som man kan se er der en del attributer i svaret. Som sådan er vi kun interesseret i `choices` og det første element i listen, hvilket indeholder vores selve outputtet. I dette skal vi finde `message` og `content`. Alt det andet giver information om hvordan svaret er genereret, hvor mange tokens der er brugt, id'er osv. "
   ]
  },
  {
   "cell_type": "code",
   "execution_count": 65,
   "metadata": {},
   "outputs": [
    {
     "name": "stdout",
     "output_type": "stream",
     "text": [
      "('\"Kejserens Nye Klæder\" er et eventyr om en forfængelig kejser, der bliver '\n",
      " 'narret af to svindlere til at tro, at han har købt en usynlig kappe, hvilket '\n",
      " 'bliver afsløret af et barn, der påpeger at kejseren er nøgen.')\n"
     ]
    }
   ],
   "source": [
    "from pprint import pprint\n",
    "\n",
    "pprint(response.choices[0].message.content)"
   ]
  },
  {
   "cell_type": "code",
   "execution_count": null,
   "metadata": {},
   "outputs": [],
   "source": []
  },
  {
   "cell_type": "code",
   "execution_count": 27,
   "metadata": {},
   "outputs": [],
   "source": [
    "from pathlib import Path\n",
    "\n",
    "import llm_extract.azure_client as azure_client\n",
    "import llm_extract.pydantic_extraction as pydantic_extraction\n",
    "import requests\n",
    "from pydantic import BaseModel, Field\n",
    "from pypdf import PdfReader\n"
   ]
  },
  {
   "cell_type": "code",
   "execution_count": 9,
   "metadata": {},
   "outputs": [],
   "source": [
    "# Step 1: Download fairytale\n",
    "URL = \"https://www.andersenstories.com/da/andersen_fortaellinger/pdf/kejserens_nye_klaeder.pdf\"\n",
    "\n",
    "\n",
    "def download_pdf(url: str, save_path: Path | None = None) -> Path:\n",
    "    \n",
    "    # If filename is not provided, extract it from the URL\n",
    "    if not save_path:\n",
    "        save_path = Path(url.split('/')[-1])\n",
    "\n",
    "    if save_path.exists():\n",
    "        return save_path\n",
    "    \n",
    "    response = requests.get(url)\n",
    "    response.raise_for_status()  # Ensures that a valid response was received\n",
    "\n",
    "\n",
    "    save_path.write_bytes(response.content)\n",
    "    \n",
    "    return save_path\n",
    "\n",
    "pdf_path = download_pdf(URL)"
   ]
  },
  {
   "cell_type": "code",
   "execution_count": 22,
   "metadata": {},
   "outputs": [
    {
     "name": "stdout",
     "output_type": "stream",
     "text": [
      "('Kejserens nye klæder For mange år siden levede en kejser, som holdt så uhyre '\n",
      " 'meget af smukke nye klæder, at han gav alle sine penge ud for ret at blive '\n",
      " 'pyntet. Han brød sig ikke om sine soldater, brød sig ej om komedie eller om '\n",
      " 'at køre i skoven, uden alene for at vise sine nye klæder. Han havde en kjole '\n",
      " 'for hver time på dagen, og ligesom man siger om en konge, han er i rådet, så '\n",
      " 'sagde man altid her: \"Kejseren er i garderoben!\" I den store stad, hvor han '\n",
      " 'boede, gik det meget fornøjeligt til, hver dag kom der mange fremmede, en '\n",
      " 'dag kom der to bedragere; de gav sig ud for at være vævere og sagde, at de '\n",
      " 'forstod at væve det dejligste tøj, man kunne tænke sig. Ikke alene farverne '\n",
      " 'og mønstret var noget usædvanligt smukt, men de klæder, som blev syet af '\n",
      " 'tøjet, havde den forunderlige egenskab at de blev usynlige for ethvert '\n",
      " 'menneske, som ikke duede i sit embede, eller også var utilladelig dum. \"Det '\n",
      " 'var jo nogle dejlige klæder,\" tænkte kejseren; \"ved at have dem på, kunne '\n",
      " 'jeg komme efter, hvilke mænd i mit rige der ikke dur til det embede de har, '\n",
      " 'jeg kan kende de kloge fra de dumme! ja det tøj må straks væves til mig!\" og '\n",
      " 'han gav de to bedragere mange penge på hånden, for at de skulle begynde på '\n",
      " 'deres arbejde. De satte også to vævestole op, lod som om de arbejdede, men '\n",
      " 'de havde ikke det mindste på væven. Rask væk forlangte de den fineste silke, '\n",
      " 'og det prægtigste guld; det puttede de i deres egen pose og arbejdede med de '\n",
      " 'tomme væve, og det til langt ud på natten. \"Nu gad jeg dog nok vide, hvor '\n",
      " 'vidt de er med tøjet!\" tænkte kejseren, men han var ordentligt lidt underlig '\n",
      " 'om hjertet ved at tænke på, at den, som var dum, eller slet passede til sit '\n",
      " 'embede, ikke kunne se det, nu troede han nok, at han ikke behøvede at være '\n",
      " 'bange for sig selv, men han ville dog sende nogen først for at se, hvorledes '\n",
      " 'det stod sig. Alle mennesker i hele byen vidste, hvilken forunderlig kraft '\n",
      " 'tøjet havde, og alle var begærlige efter at se, hvor dårlig eller dum hans '\n",
      " 'nabo var. \"Jeg vil sende min gamle ærlige minister hen til væverne!\" tænkte '\n",
      " 'kejseren, \"han kan bedst se, hvorledes tøjet tager sig ud, for han har '\n",
      " 'forstand, og ingen passer sit embede bedre end han!\" Nu gik den gamle '\n",
      " 'skikkelige minister ind i salen, hvor de to bedragere sad og arbejdede med '\n",
      " 'de tomme væve. \"Gudbevares!\" tænkte den gamle minister og spilede øjnene op! '\n",
      " '\"jeg kan jo ikke se noget!\" Men det sagde han ikke. Begge bedragerne bad ham '\n",
      " 'være så god at træde nærmere og spurgte, om det ikke var et smukt mønster og '\n",
      " 'dejlige farver. Så pegede de på den tomme væv, og den stakkels gamle '\n",
      " 'minister blev ved at spile øjnene op, men han kunne ikke se noget, for der '\n",
      " 'var ingen ting. \"Herregud!\" tænkte han, \"skulle jeg være dum! Det har jeg '\n",
      " 'aldrig troet, og det må ingen mennesker vide! skulle jeg ikke du til mit '\n",
      " 'embede? Nej det går ikke an, at jeg fortæller, jeg ikke kan se tøjet!\" \"Nå, '\n",
      " 'De siger ikke noget om det!\" sagde den ene, som vævede! \"Oh det er nydeligt! '\n",
      " 'ganske allerkæreste!\" sagde den gamle minister og så igennem sine briller, '\n",
      " '\"dette mønster og disse farver! ja, jeg skal sige kejseren, at det behager '\n",
      " 'mig særdeles!\" \"Nå det fornøjer os!\" sagde begge væverne, og nu nævnede de '\n",
      " 'farverne ved navn og det sælsomme mønster. Den gamle minister hørte godt '\n",
      " 'efter, for at han kunne sige det samme, når han kom hjem til kejseren, og '\n",
      " 'det gjorde han. Nu forlangte bedragerne flere penge, mere silke og guld, det '\n",
      " 'skulle de bruge til vævning. De stak alt i deres egne lommer, på væven kom '\n",
      " 'ikke en trævl, men de blev ved, som før, at væve på den tomme væv. Kejseren '\n",
      " 'sendte snart igen en anden skikkelig embedsmand hen for at se, hvorledes det '\n",
      " 'gik med vævningen, og om tøjet snart var færdigt. Det gik ham ligesom den '\n",
      " 'anden, han så og så, men da der ikke var noget uden de tomme væve, kunne han '\n",
      " 'ingen ting se. \"Ja, er det ikke et smukt stykke tøj!\" sagde begge bedragerne '\n",
      " 'og viste og forklarede det dejlige mønster, som der slet ikke var. \"Dum er '\n",
      " 'jeg ikke!\" tænkte manden, \"det er altså mit gode embede, jeg ikke dur til? '\n",
      " 'Det var løjerligt nok! men det må man ikke lade sig mærke med!\" og så roste '\n",
      " 'han tøjet, han ikke så, og forsikrede dem sin glæde over de skønne kulører '\n",
      " 'og det dejlige mønster. \"Ja det er ganske allerkæreste!\" sagde han til '\n",
      " 'kejseren. Alle mennesker i byen talte om det prægtige tøj. Nu ville da '\n",
      " 'kejseren selv se det, medens det endnu var  på væven. Med en hel skare af '\n",
      " 'udsøgte mænd, mellem hvilke de to gamle skikkelige embedsmænd var, som før '\n",
      " 'havde været der, gik han hen til begge de listige bedragere, der nu vævede '\n",
      " 'af alle kræfter, men uden trævl eller tråd. \"Ja er det ikke magnifik!\" sagde '\n",
      " 'begge de skikkelige embedsmænd. \"Vil Deres Majestæt se, hvilket mønster, '\n",
      " 'hvilke farver!\" og så pegede de på den tomme væv, thi de troede, de andre '\n",
      " 'vistnok kunne se tøjet. \"Hvad for noget!\" tænkte kejseren, \"jeg ser ingen '\n",
      " 'ting! det er jo forfærdeligt! er jeg dum? dur jeg ikke til at være kejser? '\n",
      " 'det var det skrækkeligste, som kunne arrivere mig!\" - \"Oh det er meget '\n",
      " 'smukt!\" sagde kejseren, \"det har mit allerhøjeste bifald!\" og han nikkede '\n",
      " 'tilfreds og betragtede den tomme væv; han ville ikke sige, at han ingen ting '\n",
      " 'kunne se. Hele følget, han havde med sig, så og så, men fik ikke mere ud af '\n",
      " 'det, end alle de andre, men de sagde ligesom kejseren, \"oh det er meget '\n",
      " 'smukt!\" og de rådede ham at tage disse nye, prægtige klæder på første gang, '\n",
      " 'ved den store procession, som forestod. \"Det er magnifik! nysseligt, '\n",
      " 'excellent!\" gik det fra mund til mund, og man var alle sammen så inderligt '\n",
      " 'fornøjede dermed. Kejseren gav hver af bedragerne et ridderkors til at hænge '\n",
      " 'i knaphullet og titel af vævejunkere. Hele natten før den formiddag '\n",
      " 'processionen skulle være, sad bedragerne oppe og havde over seksten lys '\n",
      " 'tændt. Folk kunne se, de havde travlt med at få kejserens nye klæder '\n",
      " 'færdige. De lod, som de tog tøjet af væven, de klippede i luften med store '\n",
      " 'sakse, de syede med synål uden tråd og sagde til sidst: \"Se nu er klæderne '\n",
      " 'færdige!\" Kejseren, med sine fornemste kavalerer, kom selv derhen og begge '\n",
      " 'bedragerne løftede den ene arm i vejret ligesom om de holdt noget og sagde: '\n",
      " '\"Se her er benklæderne! her er kjolen! her kappen!\" og således videre fort. '\n",
      " '\"Det er så let, som spindelvæv! man skulle tro man havde ingen ting på '\n",
      " 'kroppen, men det er just dyden ved det!\" \"Ja!\" sagde alle kavalererne, men '\n",
      " 'de kunne ingen ting se, for der var ikke noget. \"Vil nu Deres Kejserlige '\n",
      " 'Majestæt allernådigst behage at tage deres klæder af!\" sagde bedragerne, \"så '\n",
      " 'skal vi give Dem de nye på, herhenne foran det store spejl!\" Kejseren lagde '\n",
      " 'alle sine klæder, og bedragerne bar sig ad, ligesom om de gav ham hvert '\n",
      " 'stykke af de nye, der skulle være syet, og kejseren vendte og drejede sig '\n",
      " 'for spejlet.\"Gud hvor de klæder godt! hvor de sidder dejligt!\" sagde de alle '\n",
      " 'sammen. \"Hvilket mønster! hvilke farver! det er en kostbar dragt!\" \"Udenfor '\n",
      " 'står de med tronhimlen, som skal bæres over Deres Majestæt i processionen!\" '\n",
      " 'sagde overceremonimesteren. \"Ja jeg er jo i stand!\" sagde kejseren. \"Sidder '\n",
      " 'det ikke godt?\" og så vendte han sig nok engang for spejlet! for det skulle '\n",
      " 'nu lade ligesom om han ret betragtede sin stads. Kammerherrerne, som skulle '\n",
      " 'bære slæbet, famlede med hænderne hen ad gulvet, ligesom om de tog slæbet '\n",
      " 'op, de gik og holdt i luften, de turde ikke lade sig mærke med, at de '\n",
      " 'ingenting kunne se. Så gik kejseren i processionen under den dejlige '\n",
      " 'tronhimmel og alle mennesker på gaden og i vinduerne sagde: \"Gud hvor '\n",
      " 'kejserens nye klæder er mageløse! hvilket dejligt slæb han har på kjolen! '\n",
      " 'hvor den sidder velsignet!\" Ingen ville lade sig mærke med, at han intet så, '\n",
      " 'for så havde han jo ikke duet i sit embede, eller været meget dum. Ingen af '\n",
      " 'kejserens klæder havde gjort sådan lykke. \"Men han har jo ikke noget på,\" '\n",
      " 'sagde et lille barn. \"Herregud, hør den uskyldiges røst,\" sagde faderen; og '\n",
      " 'den ene hviskede til den anden, hvad barnet sagde. \"Men han har jo ikke '\n",
      " 'noget på,\" råbte til sidst hele folket. Det krøb i kejseren, thi han syntes, '\n",
      " 'de havde ret, men han tænkte som så: \"Nu må jeg holde processionen ud.\" Og '\n",
      " 'kammerherrerne gik og bar på slæbet, som der slet ikke var. * * * ')\n"
     ]
    }
   ],
   "source": [
    "def read_pdf(pdf_path: Path) -> str:\n",
    "    pdf = PdfReader(str(pdf_path))\n",
    "    return \" \".join(page.extract_text() for page in pdf.pages)\n",
    "\n",
    "\n",
    "def remove_watermark(text: str) -> str:\n",
    "    \"\"\"Remove the watermark from the text\"\"\"\n",
    "    return re.sub(r'\\d www\\.andersenstories\\.com', '', text)\n",
    "\n",
    "def clean_text(text: str) -> str:\n",
    "    \"\"\"remove newlines and replace them with spaces\"\"\"\n",
    "    return remove_watermark(text.replace('\\n', ' '))\n",
    "text = clean_text(read_pdf(pdf_path))\n",
    "\n",
    "from pprint import pprint\n",
    "pprint(text)"
   ]
  },
  {
   "cell_type": "code",
   "execution_count": 25,
   "metadata": {},
   "outputs": [],
   "source": [
    "client = azure_client.initialize_client()\n"
   ]
  },
  {
   "cell_type": "markdown",
   "metadata": {},
   "source": [
    "```json\n",
    "{'name': 'extract_fairy_tale_information', \n",
    " 'description': 'Extract high-level information about a fairy tale',\n",
    " 'parameters': {'properties': {'story_title': {'title': 'Title of the fairy tale',\n",
    "    'type': 'string'},\n",
    "   'author_name': {'anyOf': [{'type': 'string'}, {'type': 'null'}],\n",
    "    'default': None,\n",
    "    'title': 'Author of the fairy tale'},\n",
    "   'important_characters': {'items': {'type': 'string'},\n",
    "    'title': 'Important characters in the fairy tale',\n",
    "    'type': 'array'},\n",
    "   'one_sentence_summary': {'title': 'One sentence summary of the fairy tale',\n",
    "    'type': 'string'}},\n",
    "  'required': ['story_title', 'important_characters', 'one_sentence_summary'],\n",
    "  'type': 'object'}}\n",
    "```"
   ]
  },
  {
   "cell_type": "code",
   "execution_count": 52,
   "metadata": {},
   "outputs": [],
   "source": [
    "class extract_fairy_tale_information(BaseModel):\n",
    "    \"\"\"Extract high-level information about a fairy tale\"\"\"\n",
    "    story_title: str = Field(..., title=\"Title of the fairy tale\")\n",
    "    author_name: str | None = Field(None, title=\"Author of the fairy tale\")\n",
    "    important_characters: list[str] = Field(..., title=\"Important characters in the fairy tale\")\n",
    "    one_sentence_summary: str = Field(..., title=\"One sentence summary of the fairy tale\")\n",
    "    "
   ]
  },
  {
   "cell_type": "code",
   "execution_count": 57,
   "metadata": {},
   "outputs": [
    {
     "data": {
      "text/plain": [
       "{'name': 'extract_fairy_tale_information',\n",
       " 'description': 'Extract high-level information about a fairy tale',\n",
       " 'parameters': {'properties': {'story_title': {'title': 'Title of the fairy tale',\n",
       "    'type': 'string'},\n",
       "   'author_name': {'anyOf': [{'type': 'string'}, {'type': 'null'}],\n",
       "    'default': None,\n",
       "    'title': 'Author of the fairy tale'},\n",
       "   'important_characters': {'items': {'type': 'string'},\n",
       "    'title': 'Important characters in the fairy tale',\n",
       "    'type': 'array'},\n",
       "   'one_sentence_summary': {'title': 'One sentence summary of the fairy tale',\n",
       "    'type': 'string'}},\n",
       "  'required': ['story_title', 'important_characters', 'one_sentence_summary'],\n",
       "  'type': 'object'}}"
      ]
     },
     "execution_count": 57,
     "metadata": {},
     "output_type": "execute_result"
    }
   ],
   "source": [
    "pydantic_extraction.schema_to_function(extract_fairy_tale_information)"
   ]
  },
  {
   "cell_type": "code",
   "execution_count": 53,
   "metadata": {},
   "outputs": [],
   "source": [
    "simple_information = pydantic_extraction.extract_with_schema(client=client, document=text, schema=extract_fairy_tale_information)"
   ]
  },
  {
   "cell_type": "code",
   "execution_count": 56,
   "metadata": {},
   "outputs": [
    {
     "name": "stdout",
     "output_type": "stream",
     "text": [
      "{'author_name': None,\n",
      " 'important_characters': ['Kejseren',\n",
      "                          'de to bedragere',\n",
      "                          'den gamle minister',\n",
      "                          'det lille barn'],\n",
      " 'one_sentence_summary': 'En kejser bliver narret af to bedragere til at tro, '\n",
      "                         'at han har fået en usynlig dragt, og alle i hans '\n",
      "                         'rige er for bange for at indrømme, at de ikke kan se '\n",
      "                         'den, indtil et lille barn påpeger, at kejseren ikke '\n",
      "                         'har noget på.',\n",
      " 'story_title': 'Kejserens nye klæder'}\n"
     ]
    }
   ],
   "source": [
    "pprint(simple_information.model_dump())"
   ]
  },
  {
   "cell_type": "code",
   "execution_count": 44,
   "metadata": {},
   "outputs": [],
   "source": [
    "class FairytaleEvent(BaseModel):\n",
    "    \"\"\"A significant plot point in a fairy tale\"\"\"\n",
    "    name: str = Field(..., description=\"A descriptive title of the event\")\n",
    "    summary: str = Field(..., description=\"A one-sentence summary of the event\")\n",
    "    location: str = Field(..., description=\"The location where the event takes place\")\n",
    "    important_characters: list[str] = Field(..., description=\"The names of the characters involved in the event\")\n",
    "\n",
    "class extract_events_from_fairy_tale(BaseModel):\n",
    "    \"\"\"All the important plot points\"\"\"\n",
    "    fairy_title: str = Field(..., description=\"The title of the fairy tale\")\n",
    "    events: list[FairytaleEvent] = Field(..., description=\"The most important plot points in the fairy tale. There should be at least 3 events per story\")\n"
   ]
  },
  {
   "cell_type": "code",
   "execution_count": 45,
   "metadata": {},
   "outputs": [],
   "source": [
    "initial_extraction = pydantic_extraction.extract_with_schema(client=client, document=text, schema=extract_events_from_fairy_tale)"
   ]
  },
  {
   "cell_type": "code",
   "execution_count": 49,
   "metadata": {},
   "outputs": [
    {
     "data": {
      "text/plain": [
       "{'name': 'extract_events_from_fairy_tale',\n",
       " 'description': 'All the important plot points',\n",
       " 'parameters': {'$defs': {'FairytaleEvent': {'description': 'A significant plot point in a fairy tale',\n",
       "    'properties': {'name': {'description': 'A descriptive title of the event',\n",
       "      'title': 'Name',\n",
       "      'type': 'string'},\n",
       "     'summary': {'description': 'A one-sentence summary of the event',\n",
       "      'title': 'Summary',\n",
       "      'type': 'string'},\n",
       "     'location': {'description': 'The location where the event takes place',\n",
       "      'title': 'Location',\n",
       "      'type': 'string'},\n",
       "     'important_characters': {'description': 'The names of the characters involved in the event',\n",
       "      'items': {'type': 'string'},\n",
       "      'title': 'Important Characters',\n",
       "      'type': 'array'}},\n",
       "    'required': ['name', 'summary', 'location', 'important_characters'],\n",
       "    'title': 'FairytaleEvent',\n",
       "    'type': 'object'}},\n",
       "  'properties': {'fairy_title': {'description': 'The title of the fairy tale',\n",
       "    'title': 'Fairy Title',\n",
       "    'type': 'string'},\n",
       "   'events': {'description': 'The most important plot points in the fairy tale. There should be at least 3 events per story',\n",
       "    'items': {'$ref': '#/$defs/FairytaleEvent'},\n",
       "    'title': 'Events',\n",
       "    'type': 'array'}},\n",
       "  'required': ['fairy_title', 'events'],\n",
       "  'type': 'object'}}"
      ]
     },
     "execution_count": 49,
     "metadata": {},
     "output_type": "execute_result"
    }
   ],
   "source": [
    "pydantic_extraction.schema_to_function(extract_events_from_fairy_tale)"
   ]
  },
  {
   "cell_type": "code",
   "execution_count": 48,
   "metadata": {},
   "outputs": [
    {
     "name": "stdout",
     "output_type": "stream",
     "text": [
      "{'important_characters': ['Kejseren'],\n",
      " 'location': 'Kejserens palads',\n",
      " 'name': 'Kejserens fascination for klæder',\n",
      " 'summary': 'Kejseren er så besat af smukke nye klæder, at han bruger alle '\n",
      "            'sine penge på at blive pyntet. Han har en kjole for hver time på '\n",
      "            'dagen, og han er altid i garderoben.'}\n",
      "{'important_characters': ['Kejseren', 'Bedragerne'],\n",
      " 'location': 'Kejserens palads',\n",
      " 'name': 'Bedragernes ankomst',\n",
      " 'summary': 'To bedragere ankommer til byen og påstår, at de kan væve det '\n",
      "            'smukkeste tøj, der bliver usynligt for enhver, der er dum eller '\n",
      "            'ikke passer til sit embede. Kejseren betaler dem for at begynde '\n",
      "            'at væve dette tøj.'}\n",
      "{'important_characters': ['Kejseren', 'Embedsmænd', 'Bedragerne'],\n",
      " 'location': 'Kejserens palads',\n",
      " 'name': 'Kejserens embedsmænd kan ikke se tøjet',\n",
      " 'summary': 'Kejseren sender sine embedsmænd for at se tøjet. De kan ikke se '\n",
      "            'noget, men de lader som om, de kan for at undgå at virke dumme '\n",
      "            'eller uegnede til deres embede.'}\n",
      "{'important_characters': ['Kejseren', 'Bedragerne'],\n",
      " 'location': 'Kejserens palads',\n",
      " 'name': 'Kejseren kan ikke se tøjet',\n",
      " 'summary': 'Kejseren selv kan ikke se tøjet, men han lader som om, han kan '\n",
      "            'for at undgå at virke dum. Han beslutter at bære tøjet i en '\n",
      "            'kommende procession.'}\n",
      "{'important_characters': ['Kejseren', 'Byens folk', 'Lille barn'],\n",
      " 'location': 'Byens gader',\n",
      " 'name': 'Kejserens procession',\n",
      " 'summary': 'Kejseren går i procession under en tronhimmel, og alle mennesker '\n",
      "            'roser hans nye klæder. Et lille barn påpeger, at kejseren ikke '\n",
      "            'har noget på, og til sidst indser alle, at de er blevet bedraget.'}\n"
     ]
    },
    {
     "name": "stderr",
     "output_type": "stream",
     "text": [
      "C:\\Users\\JonathanHvithamarRys\\AppData\\Local\\Temp\\ipykernel_21800\\3208738577.py:2: PydanticDeprecatedSince20: The `dict` method is deprecated; use `model_dump` instead. Deprecated in Pydantic V2.0 to be removed in V3.0. See Pydantic V2 Migration Guide at https://errors.pydantic.dev/2.5/migration/\n",
      "  pprint(event.dict())\n"
     ]
    }
   ],
   "source": [
    "for event in initial_extraction.events:\n",
    "    pprint(event.dict())"
   ]
  },
  {
   "cell_type": "code",
   "execution_count": null,
   "metadata": {},
   "outputs": [],
   "source": []
  },
  {
   "cell_type": "code",
   "execution_count": 41,
   "metadata": {},
   "outputs": [
    {
     "data": {
      "text/plain": [
       "1"
      ]
     },
     "execution_count": 41,
     "metadata": {},
     "output_type": "execute_result"
    }
   ],
   "source": [
    "len(initial_extraction.events)"
   ]
  }
 ],
 "metadata": {
  "kernelspec": {
   "display_name": ".venv",
   "language": "python",
   "name": "python3"
  },
  "language_info": {
   "codemirror_mode": {
    "name": "ipython",
    "version": 3
   },
   "file_extension": ".py",
   "mimetype": "text/x-python",
   "name": "python",
   "nbconvert_exporter": "python",
   "pygments_lexer": "ipython3",
   "version": "3.11.7"
  }
 },
 "nbformat": 4,
 "nbformat_minor": 2
}
