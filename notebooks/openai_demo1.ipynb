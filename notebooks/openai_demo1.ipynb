{
 "cells": [
  {
   "cell_type": "code",
   "execution_count": 8,
   "metadata": {},
   "outputs": [],
   "source": [
    "import re\n",
    "from pathlib import Path\n",
    "from pprint import pprint\n",
    "\n",
    "import llm_extract.azure_client as azure_client\n",
    "import llm_extract.pydantic_extraction as pydantic_extraction\n",
    "import requests\n",
    "from pydantic import BaseModel, Field\n",
    "from pypdf import PdfReader\n",
    "\n",
    "\n",
    "def read_pdf(pdf_path: Path) -> str:\n",
    "    pdf = PdfReader(str(pdf_path))\n",
    "    return \" \".join(page.extract_text() for page in pdf.pages)\n",
    "\n",
    "\n",
    "def remove_watermark(text: str) -> str:\n",
    "    \"\"\"Remove the watermark from the text\"\"\"\n",
    "    return re.sub(r\"\\d www\\.andersenstories\\.com\", \"\", text)\n",
    "\n",
    "def clean_text(text: str) -> str:\n",
    "    \"\"\"remove newlines and replace them with spaces\"\"\"\n",
    "    return remove_watermark(text.replace(\"\\n\", \" \"))\n",
    "\n",
    "def download_pdf(url: str, save_path: Path | None = None) -> Path:\n",
    "    # If filename is not provided, extract it from the URL\n",
    "    if not save_path:\n",
    "        save_path = Path(url.split('/')[-1])\n",
    "    if save_path.exists():\n",
    "        return save_path\n",
    "    response = requests.get(url)\n",
    "    response.raise_for_status()  # Ensures that a valid response was received\n",
    "    save_path.write_bytes(response.content)\n",
    "    return save_path"
   ]
  },
  {
   "cell_type": "markdown",
   "metadata": {},
   "source": [
    "# Data extraction med OpenAI function calling\n",
    "Velkomment til denne tekniske workshop om data extraction med OpenAI function calling. I denne notebook vil vi få styr på følgende: \n",
    "\n",
    "1. Opsætning af Azure OpenAI (deployment, setup af API nøgler mv.)\n",
    "2. Intro til (Azure) OpenAI API og SDK\n",
    "3. Struktureret data extraction med function calls\n",
    "4. Bedre function calls med Pydantic\n",
    "5. Fri leg!\n",
    "\n",
    "I denne notebook vil vi fokusere på eventyret \"Kejserens nye klæder\" af H.C. Andersen, en klassisk fortælling, der har begejstret og undret læsere i generationer. Let's get cracking!"
   ]
  },
  {
   "cell_type": "markdown",
   "metadata": {},
   "source": [
    "## 1. Opsætning af Azure OpenAI\n",
    "Lad os hopppe ind i [oai.azure.com](https://oai.azure.com/) og tjekke det ud!"
   ]
  },
  {
   "cell_type": "markdown",
   "metadata": {},
   "source": [
    "## 2. Intro til (Azure) OpenAI API og SDK\n",
    "Vi bruger [OpenAI's API](https://platform.openai.com/docs/api-reference/chat) og [Python SDK](https://github.com/openai/openai-python). For at forbinde til ens egen model, er det vigtigt at sætte en række miljøvariabler. Et eksempel kan ses i [`.template-env`](../.template-env). \n",
    "\n",
    "Det er også vigtigt at have installeret `openai` pakken. Det kan gøres med `pip install openai`. I dette repo bruger vi `poetry`. Alle nødvendige pakker kan installeres med `poetry install`. Lad os se det i aktion!"
   ]
  },
  {
   "cell_type": "code",
   "execution_count": 4,
   "metadata": {},
   "outputs": [],
   "source": [
    "from openai import AzureOpenAI # importer clienten \n",
    "import os\n",
    "from dotenv import load_dotenv\n",
    "\n",
    "load_dotenv() # importerer .env filen\n",
    "\n",
    "client = AzureOpenAI(\n",
    "        api_key=os.getenv(\"OPENAI_API_KEY\"),\n",
    "        api_version=os.getenv(\"OPENAI_API_VERSION\"),\n",
    "        azure_endpoint=os.getenv(\"OPENAI_API_BASE\"),\n",
    "    )"
   ]
  },
  {
   "cell_type": "markdown",
   "metadata": {},
   "source": [
    "Nu hvor vi har en client, kan vi prøve at generere et svar. Man skal bruge en model og en liste af \"beskeder\". En besked er et simpelt objekt med en `role` (enten `system`, `user`, eller `assistant`) og noget `content` (en string med prompten). Man skal give en liste af den fulde historik man vil medtage. Lad os prøve at snakke om kejserens nye klæder!"
   ]
  },
  {
   "cell_type": "code",
   "execution_count": 66,
   "metadata": {},
   "outputs": [],
   "source": [
    "system_message = {\"role\": \"system\", \"content\": \"You are an expert on H.C Andersen. You can answer all questions about all of his fairytales.\"}\n",
    "question = {\"role\": \"user\", \"content\": \"Opsummer eventyret om kejserens nye klæder i en præcis sætning. Nævn også de vigtigste karakterer i eventyret.\"}\n",
    "\n",
    "response = client.chat.completions.create(\n",
    "    model=\"gpt4\", # NB: Det skal være det navn du har givet modellen i Azure!\n",
    "    messages=[system_message, question],\n",
    ")"
   ]
  },
  {
   "cell_type": "markdown",
   "metadata": {},
   "source": [
    "Lad os tage et kig på svaret!"
   ]
  },
  {
   "cell_type": "code",
   "execution_count": 63,
   "metadata": {},
   "outputs": [
    {
     "name": "stdout",
     "output_type": "stream",
     "text": [
      "ChatCompletion(id='chatcmpl-8cYWvvhsM7h6gBXaegJxFnq7gGU3M', choices=[Choice(finish_reason='stop', index=0, logprobs=None, message=ChatCompletionMessage(content='\"Kejserens Nye Klæder\" er et eventyr om en forfængelig kejser, der bliver narret af to svindlere til at tro, at han har købt en usynlig kappe, hvilket bliver afsløret af et barn, der påpeger at kejseren er nøgen.', role='assistant', function_call=None, tool_calls=None), content_filter_results={'hate': {'filtered': False, 'severity': 'safe'}, 'self_harm': {'filtered': False, 'severity': 'safe'}, 'sexual': {'filtered': False, 'severity': 'low'}, 'violence': {'filtered': False, 'severity': 'safe'}})], created=1704199889, model='gpt-4', object='chat.completion', system_fingerprint=None, usage=CompletionUsage(completion_tokens=79, prompt_tokens=56, total_tokens=135), prompt_filter_results=[{'prompt_index': 0, 'content_filter_results': {'hate': {'filtered': False, 'severity': 'safe'}, 'self_harm': {'filtered': False, 'severity': 'safe'}, 'sexual': {'filtered': False, 'severity': 'safe'}, 'violence': {'filtered': False, 'severity': 'safe'}}}])\n"
     ]
    }
   ],
   "source": [
    "print(response)"
   ]
  },
  {
   "cell_type": "markdown",
   "metadata": {},
   "source": [
    "Som man kan se er der en del attributer i svaret. Som sådan er vi kun interesseret i `choices` og det første element i listen, hvilket indeholder vores selve outputtet. I dette skal vi finde `message` og `content`. Alt det andet giver information om hvordan svaret er genereret, hvor mange tokens der er brugt, id'er osv. "
   ]
  },
  {
   "cell_type": "code",
   "execution_count": 65,
   "metadata": {},
   "outputs": [
    {
     "name": "stdout",
     "output_type": "stream",
     "text": [
      "('\"Kejserens Nye Klæder\" er et eventyr om en forfængelig kejser, der bliver '\n",
      " 'narret af to svindlere til at tro, at han har købt en usynlig kappe, hvilket '\n",
      " 'bliver afsløret af et barn, der påpeger at kejseren er nøgen.')\n"
     ]
    }
   ],
   "source": [
    "from pprint import pprint\n",
    "\n",
    "pprint(response.choices[0].message.content)"
   ]
  },
  {
   "cell_type": "markdown",
   "metadata": {},
   "source": [
    "Ikke helt dårligt! Dog har vi ikke helt styr på outputtet, og hvor det kommer fra. Til det skal vi bruge `function calls` - lad os se det i aktion!\n",
    "\n",
    "## 3. Struktureret data extraction med function calls\n",
    "Function calls er en teknik fra OpenAI, der kan bruges til at få LLMs til at output JSON data. Man kan læse mere på deres documentation [her](https://platform.openai.com/docs/guides/function-calling).\n",
    "\n",
    "Lad os sige, at vi vil have en funktion, der kan tage et eventyr og returnere en række informationer om det. Vi vil gerne have titlen, forfatteren, en liste af vigtige karakterer og en kort beskrivelse af eventyret. Lad os prøve at lave en function call, der kan gøre det!\n",
    "\n",
    "```json\n",
    "{'name': 'extract_fairy_tale_information', \n",
    " 'description': 'Extract high-level information about a fairy tale',\n",
    " 'parameters': {'properties': {'story_title': {'title': 'Title of the fairy tale',\n",
    "    'type': 'string'},\n",
    "   'author_name': {'anyOf': [{'type': 'string'}, {'type': 'null'}],\n",
    "    'default': None,\n",
    "    'title': 'Author of the fairy tale'},\n",
    "   'important_characters': {'items': {'type': 'string'},\n",
    "    'title': 'Important characters in the fairy tale',\n",
    "    'type': 'array'},\n",
    "   'one_sentence_summary': {'title': 'One sentence summary of the fairy tale',\n",
    "    'type': 'string'}},\n",
    "  'required': ['story_title', 'important_characters', 'one_sentence_summary'],\n",
    "  'type': 'object'}}\n",
    "```\n",
    "\n",
    "Ovenfor kan man se en JSON beskrivelse af vores function call. Den indeholder en række informationer om funktionen, herunder navn, beskrivelse og parametre. Hver parameter har en række informationer, herunder titel, type og default værdi.\n",
    "\n"
   ]
  },
  {
   "cell_type": "code",
   "execution_count": 10,
   "metadata": {},
   "outputs": [
    {
     "name": "stdout",
     "output_type": "stream",
     "text": [
      "('Kejserens nye klæder For mange år siden levede en kejser, som holdt så uhyre '\n",
      " 'meget af smukke nye klæder, at han gav alle sine penge ud for ret at blive '\n",
      " 'pyntet. Han brød sig ikke om sine soldater, brød')\n"
     ]
    }
   ],
   "source": [
    "# Step 1: Download fairytale\n",
    "URL = \"https://www.andersenstories.com/da/andersen_fortaellinger/pdf/kejserens_nye_klaeder.pdf\"\n",
    "\n",
    "\n",
    "pdf_path = download_pdf(URL)\n",
    "text = clean_text(read_pdf(pdf_path))\n",
    "pprint(text[:200])"
   ]
  },
  {
   "cell_type": "code",
   "execution_count": 12,
   "metadata": {},
   "outputs": [],
   "source": [
    "client = azure_client.initialize_client()\n",
    "\n",
    "SYSTEM_MESSAGE = {\"role\": \"system\", \"content\": \"You are an expert on H.C Andersen. You extract relevant information from a given fairy tale.\"}\n",
    "\n",
    "function_call = {\"name\": \"extract_fairy_tale_information\", \n",
    " 'description': 'Extract high-level information about a fairy tale',\n",
    " 'parameters': {'properties': {'story_title': {'title': 'Title of the fairy tale',\n",
    "    'type': 'string'},\n",
    "   'author_name': {'anyOf': [{'type': 'string'}, {'type': 'null'}],\n",
    "    'default': \"null\",\n",
    "    'title': 'Author of the fairy tale'},\n",
    "   'important_characters': {'items': {'type': 'string'},\n",
    "    'title': 'Important characters in the fairy tale',\n",
    "    'type': 'array'},\n",
    "   'one_sentence_summary': {'title': 'One sentence summary of the fairy tale',\n",
    "    'type': 'string'}},\n",
    "  'required': ['story_title', 'important_characters', 'one_sentence_summary'],\n",
    "  'type': 'object'}}\n",
    "\n",
    "\n",
    "completion = client.chat.completions.create(\n",
    "  model=\"gpt4\",\n",
    "  messages=[SYSTEM_MESSAGE, {\"role\": \"user\", \"content\": text}],\n",
    "        functions=[function_call],\n",
    "        function_call={\n",
    "            \"name\": function_call[\"name\"],\n",
    "        },\n",
    ")\n"
   ]
  },
  {
   "cell_type": "code",
   "execution_count": 18,
   "metadata": {},
   "outputs": [
    {
     "name": "stdout",
     "output_type": "stream",
     "text": [
      "completion=ChatCompletion(id='chatcmpl-8dbZTv1RoYgkYxffJzhtxgjoExBnq', choices=[Choice(finish_reason='stop', index=0, logprobs=None, message=ChatCompletionMessage(content=None, role='assistant', function_call=FunctionCall(arguments='{\\n\"story_title\": \"Kejserens nye Klæder\",\\n\"author_name\": \"H.C Andersen\",\\n\"important_characters\": [\"Kejseren\", \"To bedragere\", \"Minister\", \"Embedsmand\", \"Lille barn\"],\\n\"one_sentence_summary\": \"En kejser, der elsker nye klæder, bliver narret af bedragere, der påstår at lave en usynlig kjole, og hans løgn bliver afsløret i en offentlig procession af et lille barn.\"\\n}', name='extract_fairy_tale_information'), tool_calls=None), content_filter_results={})], created=1704449907, model='gpt-4', object='chat.completion', system_fingerprint=None, usage=CompletionUsage(completion_tokens=119, prompt_tokens=2811, total_tokens=2930), prompt_filter_results=[{'prompt_index': 0, 'content_filter_results': {'hate': {'filtered': False, 'severity': 'low'}, 'self_harm': {'filtered': False, 'severity': 'safe'}, 'sexual': {'filtered': False, 'severity': 'safe'}, 'violence': {'filtered': False, 'severity': 'safe'}}}])\n",
      "('completion_output=\\'{\\\\n\"story_title\": \"Kejserens nye '\n",
      " 'Klæder\",\\\\n\"author_name\": \"H.C Andersen\",\\\\n\"important_characters\": '\n",
      " '[\"Kejseren\", \"To bedragere\", \"Minister\", \"Embedsmand\", \"Lille '\n",
      " 'barn\"],\\\\n\"one_sentence_summary\": \"En kejser, der elsker nye klæder, bliver '\n",
      " 'narret af bedragere, der påstår at lave en usynlig kjole, og hans løgn '\n",
      " 'bliver afsløret i en offentlig procession af et lille barn.\"\\\\n}\\'')\n"
     ]
    }
   ],
   "source": [
    "import pprint\n",
    "print(f\"{completion=}\")\n",
    "completion_output = completion.choices[0].message.function_call.arguments\n",
    "pprint.pprint(f\"{completion_output=}\")"
   ]
  },
  {
   "cell_type": "markdown",
   "metadata": {},
   "source": [
    "Svaret er fint, men det kan være svært at finde rundt i JSON kaldet. Heldigvis er der en mere pythonic løsning: Pydantic!\n",
    "\n",
    "## 4. Bedre function calls med Pydantic\n",
    "\n",
    "Præcis den samme function call kan laves med Pydantic. Lad os se det i aktion!"
   ]
  },
  {
   "cell_type": "code",
   "execution_count": 19,
   "metadata": {},
   "outputs": [],
   "source": [
    "class extract_fairy_tale_information(BaseModel):\n",
    "    \"\"\"Extract high-level information about a fairy tale\"\"\"\n",
    "    story_title: str = Field(..., title=\"Title of the fairy tale\")\n",
    "    author_name: str | None = Field(None, title=\"Author of the fairy tale\")\n",
    "    important_characters: list[str] = Field(..., title=\"Important characters in the fairy tale\")\n",
    "    one_sentence_summary: str = Field(..., title=\"One sentence summary of the fairy tale\")\n",
    "    "
   ]
  },
  {
   "cell_type": "code",
   "execution_count": 20,
   "metadata": {},
   "outputs": [],
   "source": [
    "simple_information = pydantic_extraction.extract_with_schema(client=client, document=text, schema=extract_fairy_tale_information)"
   ]
  },
  {
   "cell_type": "code",
   "execution_count": 22,
   "metadata": {},
   "outputs": [
    {
     "name": "stdout",
     "output_type": "stream",
     "text": [
      "extract_fairy_tale_information(story_title='Kejserens nye klæder', author_name=None, important_characters=['Kejseren', 'to bedragere', 'minister', 'embedsmand', 'lille barn'], one_sentence_summary='En kejser bliver narret af to bedragere til at tro, at han har fået en usynlig dragt, og alle i hans rige er for bange for at indrømme, at de ikke kan se den, indtil et lille barn påpeger, at kejseren ikke har noget på.')\n"
     ]
    }
   ],
   "source": [
    "pprint.pprint(simple_information)"
   ]
  },
  {
   "cell_type": "markdown",
   "metadata": {},
   "source": [
    "Dataen er næsten det samme, men det er blevet lidt nemmere at læse og arbejde med. Pydantic kan også bruges til at lave mere komplekse function calls med nestede data objekter. Fx. Hvis man skal lave en tidslinje over events:"
   ]
  },
  {
   "cell_type": "code",
   "execution_count": 44,
   "metadata": {},
   "outputs": [],
   "source": [
    "class FairytaleEvent(BaseModel):\n",
    "    \"\"\"A significant plot point in a fairy tale\"\"\"\n",
    "    name: str = Field(..., description=\"A descriptive title of the event\")\n",
    "    summary: str = Field(..., description=\"A one-sentence summary of the event\")\n",
    "    location: str = Field(..., description=\"The location where the event takes place\")\n",
    "    important_characters: list[str] = Field(..., description=\"The names of the characters involved in the event\")\n",
    "\n",
    "class extract_events_from_fairy_tale(BaseModel):\n",
    "    \"\"\"All the important plot points\"\"\"\n",
    "    fairy_title: str = Field(..., description=\"The title of the fairy tale\")\n",
    "    events: list[FairytaleEvent] = Field(..., description=\"The most important plot points in the fairy tale. There should be at least 3 events per story\")\n"
   ]
  },
  {
   "cell_type": "code",
   "execution_count": 45,
   "metadata": {},
   "outputs": [],
   "source": [
    "initial_extraction = pydantic_extraction.extract_with_schema(client=client, document=text, schema=extract_events_from_fairy_tale)"
   ]
  },
  {
   "cell_type": "code",
   "execution_count": 49,
   "metadata": {},
   "outputs": [
    {
     "data": {
      "text/plain": [
       "{'name': 'extract_events_from_fairy_tale',\n",
       " 'description': 'All the important plot points',\n",
       " 'parameters': {'$defs': {'FairytaleEvent': {'description': 'A significant plot point in a fairy tale',\n",
       "    'properties': {'name': {'description': 'A descriptive title of the event',\n",
       "      'title': 'Name',\n",
       "      'type': 'string'},\n",
       "     'summary': {'description': 'A one-sentence summary of the event',\n",
       "      'title': 'Summary',\n",
       "      'type': 'string'},\n",
       "     'location': {'description': 'The location where the event takes place',\n",
       "      'title': 'Location',\n",
       "      'type': 'string'},\n",
       "     'important_characters': {'description': 'The names of the characters involved in the event',\n",
       "      'items': {'type': 'string'},\n",
       "      'title': 'Important Characters',\n",
       "      'type': 'array'}},\n",
       "    'required': ['name', 'summary', 'location', 'important_characters'],\n",
       "    'title': 'FairytaleEvent',\n",
       "    'type': 'object'}},\n",
       "  'properties': {'fairy_title': {'description': 'The title of the fairy tale',\n",
       "    'title': 'Fairy Title',\n",
       "    'type': 'string'},\n",
       "   'events': {'description': 'The most important plot points in the fairy tale. There should be at least 3 events per story',\n",
       "    'items': {'$ref': '#/$defs/FairytaleEvent'},\n",
       "    'title': 'Events',\n",
       "    'type': 'array'}},\n",
       "  'required': ['fairy_title', 'events'],\n",
       "  'type': 'object'}}"
      ]
     },
     "execution_count": 49,
     "metadata": {},
     "output_type": "execute_result"
    }
   ],
   "source": [
    "pydantic_extraction.schema_to_function(extract_events_from_fairy_tale)"
   ]
  },
  {
   "cell_type": "code",
   "execution_count": 48,
   "metadata": {},
   "outputs": [
    {
     "name": "stdout",
     "output_type": "stream",
     "text": [
      "{'important_characters': ['Kejseren'],\n",
      " 'location': 'Kejserens palads',\n",
      " 'name': 'Kejserens fascination for klæder',\n",
      " 'summary': 'Kejseren er så besat af smukke nye klæder, at han bruger alle '\n",
      "            'sine penge på at blive pyntet. Han har en kjole for hver time på '\n",
      "            'dagen, og han er altid i garderoben.'}\n",
      "{'important_characters': ['Kejseren', 'Bedragerne'],\n",
      " 'location': 'Kejserens palads',\n",
      " 'name': 'Bedragernes ankomst',\n",
      " 'summary': 'To bedragere ankommer til byen og påstår, at de kan væve det '\n",
      "            'smukkeste tøj, der bliver usynligt for enhver, der er dum eller '\n",
      "            'ikke passer til sit embede. Kejseren betaler dem for at begynde '\n",
      "            'at væve dette tøj.'}\n",
      "{'important_characters': ['Kejseren', 'Embedsmænd', 'Bedragerne'],\n",
      " 'location': 'Kejserens palads',\n",
      " 'name': 'Kejserens embedsmænd kan ikke se tøjet',\n",
      " 'summary': 'Kejseren sender sine embedsmænd for at se tøjet. De kan ikke se '\n",
      "            'noget, men de lader som om, de kan for at undgå at virke dumme '\n",
      "            'eller uegnede til deres embede.'}\n",
      "{'important_characters': ['Kejseren', 'Bedragerne'],\n",
      " 'location': 'Kejserens palads',\n",
      " 'name': 'Kejseren kan ikke se tøjet',\n",
      " 'summary': 'Kejseren selv kan ikke se tøjet, men han lader som om, han kan '\n",
      "            'for at undgå at virke dum. Han beslutter at bære tøjet i en '\n",
      "            'kommende procession.'}\n",
      "{'important_characters': ['Kejseren', 'Byens folk', 'Lille barn'],\n",
      " 'location': 'Byens gader',\n",
      " 'name': 'Kejserens procession',\n",
      " 'summary': 'Kejseren går i procession under en tronhimmel, og alle mennesker '\n",
      "            'roser hans nye klæder. Et lille barn påpeger, at kejseren ikke '\n",
      "            'har noget på, og til sidst indser alle, at de er blevet bedraget.'}\n"
     ]
    },
    {
     "name": "stderr",
     "output_type": "stream",
     "text": [
      "C:\\Users\\JonathanHvithamarRys\\AppData\\Local\\Temp\\ipykernel_21800\\3208738577.py:2: PydanticDeprecatedSince20: The `dict` method is deprecated; use `model_dump` instead. Deprecated in Pydantic V2.0 to be removed in V3.0. See Pydantic V2 Migration Guide at https://errors.pydantic.dev/2.5/migration/\n",
      "  pprint(event.dict())\n"
     ]
    }
   ],
   "source": [
    "for event in initial_extraction.events:\n",
    "    pprint(event.dict())"
   ]
  },
  {
   "cell_type": "markdown",
   "metadata": {},
   "source": [
    "## 5. Fri leg!\n",
    "- [ ] Find et dokument, du gerne vil lave en function call på. Det kan enten være [et andet eventyr](https://www.andersenstories.com/da/andersen_fortaellinger/list), eller et andet dokument.\n",
    "- [ ] Lav en simpel function call, der kan lave en kort beskrivelse af dokumentet.\n",
    "- [ ] Lav en nested function call, der kan lave en tidslinje over events i dokumentet."
   ]
  }
 ],
 "metadata": {
  "kernelspec": {
   "display_name": ".venv",
   "language": "python",
   "name": "python3"
  },
  "language_info": {
   "codemirror_mode": {
    "name": "ipython",
    "version": 3
   },
   "file_extension": ".py",
   "mimetype": "text/x-python",
   "name": "python",
   "nbconvert_exporter": "python",
   "pygments_lexer": "ipython3",
   "version": "3.11.7"
  }
 },
 "nbformat": 4,
 "nbformat_minor": 2
}
